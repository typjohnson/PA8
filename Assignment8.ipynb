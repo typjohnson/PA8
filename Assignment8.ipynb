{
 "cells": [
  {
   "cell_type": "markdown",
   "id": "d312c628",
   "metadata": {},
   "source": [
    "## Ty Johnson\n",
    "## PA8\n",
    "## 11 April 2023\n",
    "## Version 0"
   ]
  },
  {
   "cell_type": "code",
   "execution_count": 2,
   "id": "240b514d",
   "metadata": {},
   "outputs": [],
   "source": [
    "import numpy as np"
   ]
  },
  {
   "cell_type": "code",
   "execution_count": 3,
   "id": "d234256d",
   "metadata": {},
   "outputs": [
    {
     "name": "stdout",
     "output_type": "stream",
     "text": [
      "[[ 100  400]\n",
      " [ 900 1600]]\n"
     ]
    }
   ],
   "source": [
    "arr = np.array([[10,20],[30,40]])\n",
    "arraySq = arr ** 2\n",
    "print(arraySq)"
   ]
  },
  {
   "cell_type": "code",
   "execution_count": 4,
   "id": "b3f2820d",
   "metadata": {},
   "outputs": [
    {
     "name": "stdout",
     "output_type": "stream",
     "text": [
      "[[110 120]\n",
      " [130 140]]\n"
     ]
    }
   ],
   "source": [
    "arrHundred = arr + 100\n",
    "print(arrHundred)"
   ]
  },
  {
   "cell_type": "code",
   "execution_count": 5,
   "id": "ebdd3389",
   "metadata": {},
   "outputs": [
    {
     "name": "stdout",
     "output_type": "stream",
     "text": [
      "[[ 50 100]\n",
      " [150 200]]\n"
     ]
    }
   ],
   "source": [
    "arrFive = arr * 5\n",
    "print(arrFive)"
   ]
  },
  {
   "cell_type": "code",
   "execution_count": 6,
   "id": "6040d2ce",
   "metadata": {},
   "outputs": [
    {
     "name": "stdout",
     "output_type": "stream",
     "text": [
      "[[3.16227766 4.47213595]\n",
      " [5.47722558 6.32455532]]\n"
     ]
    }
   ],
   "source": [
    "arrSqrt = np.sqrt(arr)\n",
    "print(arrSqrt)"
   ]
  },
  {
   "cell_type": "code",
   "execution_count": 7,
   "id": "0e43896c",
   "metadata": {},
   "outputs": [
    {
     "name": "stdout",
     "output_type": "stream",
     "text": [
      "\n",
      " [[ 3  6  9]\n",
      " [12 15 18]\n",
      " [21 24 27]]\n",
      "\n",
      " [[10.   11.25 12.5 ]\n",
      " [13.75 15.   16.25]\n",
      " [17.5  18.75 20.  ]]\n",
      "\n",
      " [[ 30.   67.5 112.5]\n",
      " [165.  225.  292.5]\n",
      " [367.5 450.  540. ]]\n"
     ]
    }
   ],
   "source": [
    "arr2 = np.arange(3,30,3).reshape(3,3)\n",
    "print('\\n',arr2)\n",
    "arr3 = np.linspace(10,20,9).reshape(3,3)\n",
    "print('\\n',arr3)\n",
    "\n",
    "print('\\n',arr2 * arr3)"
   ]
  },
  {
   "cell_type": "code",
   "execution_count": 14,
   "id": "aa3c1766",
   "metadata": {},
   "outputs": [
    {
     "name": "stdout",
     "output_type": "stream",
     "text": [
      "[[52 12 81  0 58]\n",
      " [96  4 61 16 43]\n",
      " [38 96 45 17 58]\n",
      " [97 21 22 25  6]\n",
      " [77  6 19  2 74]]\n",
      "\n",
      "The mean is 41.04\n"
     ]
    }
   ],
   "source": [
    "one = np.load('process1.npy')\n",
    "two = np.load('process2.npy')\n",
    "three = np.load('process3.npy')\n",
    "four = np.load('process4.npy')\n",
    "five = np.load('process5.npy')\n",
    "\n",
    "stacked = np.stack([one,two,three,four,five]).reshape(5,5)\n",
    "\n",
    "print(stacked)\n",
    "\n",
    "colMean = np.mean(stacked)\n",
    "print(f'\\nThe mean is {colMean}')"
   ]
  },
  {
   "cell_type": "code",
   "execution_count": null,
   "id": "37f9eacb",
   "metadata": {},
   "outputs": [],
   "source": []
  },
  {
   "cell_type": "code",
   "execution_count": null,
   "id": "56bc6bec",
   "metadata": {},
   "outputs": [],
   "source": []
  }
 ],
 "metadata": {
  "kernelspec": {
   "display_name": "Python 3 (ipykernel)",
   "language": "python",
   "name": "python3"
  },
  "language_info": {
   "codemirror_mode": {
    "name": "ipython",
    "version": 3
   },
   "file_extension": ".py",
   "mimetype": "text/x-python",
   "name": "python",
   "nbconvert_exporter": "python",
   "pygments_lexer": "ipython3",
   "version": "3.9.13"
  }
 },
 "nbformat": 4,
 "nbformat_minor": 5
}
